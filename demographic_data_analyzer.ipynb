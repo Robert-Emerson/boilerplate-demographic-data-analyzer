{
 "cells": [
  {
   "cell_type": "code",
   "execution_count": 1,
   "metadata": {},
   "outputs": [
    {
     "name": "stderr",
     "output_type": "stream",
     "text": [
      "C:\\Users\\robert\\AppData\\Local\\Temp\\ipykernel_18044\\4080736814.py:1: DeprecationWarning: \n",
      "Pyarrow will become a required dependency of pandas in the next major release of pandas (pandas 3.0),\n",
      "(to allow more performant data types, such as the Arrow string type, and better interoperability with other libraries)\n",
      "but was not found to be installed on your system.\n",
      "If this would cause problems for you,\n",
      "please provide us feedback at https://github.com/pandas-dev/pandas/issues/54466\n",
      "        \n",
      "  import pandas as pd\n"
     ]
    }
   ],
   "source": [
    "import pandas as pd"
   ]
  },
  {
   "cell_type": "code",
   "execution_count": 67,
   "metadata": {},
   "outputs": [
    {
     "name": "stdout",
     "output_type": "stream",
     "text": [
      "       age         workclass  fnlwgt   education  education-num  \\\n",
      "0       39         State-gov   77516   Bachelors             13   \n",
      "1       50  Self-emp-not-inc   83311   Bachelors             13   \n",
      "2       38           Private  215646     HS-grad              9   \n",
      "3       53           Private  234721        11th              7   \n",
      "4       28           Private  338409   Bachelors             13   \n",
      "...    ...               ...     ...         ...            ...   \n",
      "32556   27           Private  257302  Assoc-acdm             12   \n",
      "32557   40           Private  154374     HS-grad              9   \n",
      "32558   58           Private  151910     HS-grad              9   \n",
      "32559   22           Private  201490     HS-grad              9   \n",
      "32560   52      Self-emp-inc  287927     HS-grad              9   \n",
      "\n",
      "           marital-status         occupation   relationship   race     sex  \\\n",
      "0           Never-married       Adm-clerical  Not-in-family  White    Male   \n",
      "1      Married-civ-spouse    Exec-managerial        Husband  White    Male   \n",
      "2                Divorced  Handlers-cleaners  Not-in-family  White    Male   \n",
      "3      Married-civ-spouse  Handlers-cleaners        Husband  Black    Male   \n",
      "4      Married-civ-spouse     Prof-specialty           Wife  Black  Female   \n",
      "...                   ...                ...            ...    ...     ...   \n",
      "32556  Married-civ-spouse       Tech-support           Wife  White  Female   \n",
      "32557  Married-civ-spouse  Machine-op-inspct        Husband  White    Male   \n",
      "32558             Widowed       Adm-clerical      Unmarried  White  Female   \n",
      "32559       Never-married       Adm-clerical      Own-child  White    Male   \n",
      "32560  Married-civ-spouse    Exec-managerial           Wife  White  Female   \n",
      "\n",
      "       capital-gain  capital-loss  hours-per-week native-country salary  \n",
      "0              2174             0              40  United-States  <=50K  \n",
      "1                 0             0              13  United-States  <=50K  \n",
      "2                 0             0              40  United-States  <=50K  \n",
      "3                 0             0              40  United-States  <=50K  \n",
      "4                 0             0              40           Cuba  <=50K  \n",
      "...             ...           ...             ...            ...    ...  \n",
      "32556             0             0              38  United-States  <=50K  \n",
      "32557             0             0              40  United-States   >50K  \n",
      "32558             0             0              40  United-States  <=50K  \n",
      "32559             0             0              20  United-States  <=50K  \n",
      "32560         15024             0              40  United-States   >50K  \n",
      "\n",
      "[32561 rows x 15 columns]\n"
     ]
    }
   ],
   "source": [
    "df = pd.read_csv(\"C:\\\\Users\\\\robert\\\\source\\\\repos\\\\freeCodeCamp\\\\data-analysis\\\\boilerplate-demographic-data-analyzer\\\\adult.data.csv\")\n",
    "print(df)"
   ]
  },
  {
   "cell_type": "code",
   "execution_count": 61,
   "metadata": {},
   "outputs": [
    {
     "name": "stdout",
     "output_type": "stream",
     "text": [
      "race\n",
      "White                 27816\n",
      "Black                  3124\n",
      "Asian-Pac-Islander     1039\n",
      "Amer-Indian-Eskimo      311\n",
      "Other                   271\n",
      "Name: count, dtype: int64\n"
     ]
    }
   ],
   "source": [
    "# How many of each race are represented in this dataset? This should be a Pandas series with race names as the index labels.\n",
    "race_count = df[\"race\"].value_counts()\n",
    "print(race_count)"
   ]
  },
  {
   "cell_type": "code",
   "execution_count": 60,
   "metadata": {},
   "outputs": [
    {
     "name": "stdout",
     "output_type": "stream",
     "text": [
      "39.43354749885268\n"
     ]
    }
   ],
   "source": [
    "\n",
    "# What is the average age of men?\n",
    "average_age_men = df[ df.sex == \"Male\"].age.mean()\n",
    "print(average_age_men)"
   ]
  },
  {
   "cell_type": "code",
   "execution_count": 142,
   "metadata": {},
   "outputs": [
    {
     "name": "stdout",
     "output_type": "stream",
     "text": [
      "1 7841 10.0\n"
     ]
    }
   ],
   "source": [
    "# What is the percentage of people who have a Bachelor's degree?\n",
    "count_people = df.education.count()\n",
    "percentage_bachelors = (df[df.education == \"Bachelors\"].education.count() / count_people) * 100\n",
    "\n",
    "# What percentage of people with advanced education (`Bachelors`, `Masters`, or `Doctorate`) make more than 50K?\n",
    "# What percentage of people without advanced education make more than 50K?\n",
    "\n",
    "# with and without `Bachelors`, `Masters`, or `Doctorate`\n",
    "higher_education = df.query(\"`education-num` >= 13\")\n",
    "lower_education = df.query(\"`education-num` < 13\")\n",
    "\n",
    "# percentage with salary >50K\n",
    "higher_education_rich = (higher_education[higher_education.salary == \">50K\"].salary.count() / higher_education.salary.count()) * 100\n",
    "lower_education_rich = (lower_education[lower_education.salary == \">50K\"].salary.count() / lower_education.salary.count()) * 100\n",
    "\n",
    "# What is the minimum number of hours a person works per week (hours-per-week feature)?\n",
    "min_work_hours = df[\"hours-per-week\"].min()\n",
    "\n",
    "# What percentage of the people who work the minimum number of hours per week have a salary of >50K?\n",
    "num_min_workers = df[(df[\"hours-per-week\"] == min_work_hours) & (df[\"salary\"] == \">50K\")]\n",
    "rich_percentage = (num_min_workers.salary.count() / df[df[\"hours-per-week\"] == min_work_hours][\"salary\"].count()) * 100\n",
    "print(min_work_hours, df[df[\"salary\"] == \">50K\"][\"salary\"].count(), rich_percentage)\n",
    "\n",
    "# What country has the highest percentage of people that earn >50K?\n",
    "high_earners = df[df[\"salary\"] == \">50K\"].groupby([\"native-country\"])[\"native-country\"].agg(total_count=\"count\")\n",
    "all_earners = df[[\"native-country\", \"salary\"]].groupby([\"native-country\"]).count().join(high_earners, on='native-country')\n",
    "highest_earning_country_series = (all_earners.total_count / all_earners.salary).sort_values(ascending=False).head(1)\n",
    "highest_earning_country = highest_earning_country_series.index.item()\n",
    "highest_earning_country_percentage = highest_earning_country_series.item()\n",
    "\n",
    "# Identify the most popular occupation for those who earn >50K in India.\n",
    "top_IN_occupation_series = df[(df[\"native-country\"] == \"India\") & (df[\"salary\"] == \">50K\")][\"occupation\"].value_counts().sort_values(ascending=False).head(1)\n",
    "top_IN_occupation = top_IN_occupation_series.index.item()\n"
   ]
  }
 ],
 "metadata": {
  "kernelspec": {
   "display_name": ".venv",
   "language": "python",
   "name": "python3"
  },
  "language_info": {
   "codemirror_mode": {
    "name": "ipython",
    "version": 3
   },
   "file_extension": ".py",
   "mimetype": "text/x-python",
   "name": "python",
   "nbconvert_exporter": "python",
   "pygments_lexer": "ipython3",
   "version": "3.12.1"
  }
 },
 "nbformat": 4,
 "nbformat_minor": 2
}
